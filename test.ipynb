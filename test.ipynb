{
 "cells": [
  {
   "cell_type": "code",
   "execution_count": 24,
   "metadata": {},
   "outputs": [
    {
     "name": "stdout",
     "output_type": "stream",
     "text": [
      "\n",
      "            <li class=\"featured-voices__list-item\">\n",
      "              <span class=\"featured-voices__list-item-author display-block\">\n",
      "                    <a href=\"https://time.com/author/j-bradford-delong/\">j. bradford delong</a>\n",
      "                    \n",
      "                \n",
      "              </span>\n",
      "              <a href=\"/6211380/economic-prosperity-failed/\">\n",
      "                <h3 class=\"featured-voices__list-item-headline display-block\">Our Ancestors Thought We'd Build an Economic Paradise. Instead We Got 2022</h3>\n",
      "              </a>\n",
      "            </li>\n",
      "            <li class=\"featured-voices__list-item\">\n",
      "              <span class=\"featured-voices__list-item-author display-block\">\n",
      "                    <a href=\"https://time.com/author/michael-daignault/\">michael daignault</a>\n",
      "                    ,\n",
      "                    <a href=\"https://time.com/author/dr-monica-gandhi/\">monica gandhi</a>\n",
      "                    \n",
      "                \n",
      "              </span>\n",
      "              <a href=\"/6211075/covid-19-vaccine-omicron-boosters/\">\n",
      "                <h3 class=\"featured-voices__list-item-headline display-block\">The CDC's Booster Recommendations May Not Provide Optimal Protection</h3>\n",
      "              </a>\n",
      "            </li>\n",
      "            <li class=\"featured-voices__list-item\">\n",
      "              <span class=\"featured-voices__list-item-author display-block\">\n",
      "                    <a href=\"https://time.com/author/victor-ray/\">victor ray</a>\n",
      "                    \n",
      "                \n",
      "              </span>\n",
      "              <a href=\"/6202664/critical-race-theorys-merchants-of-doubt/\">\n",
      "                <h3 class=\"featured-voices__list-item-headline display-block\">Critical Race Theory’s Merchants of Doubt</h3>\n",
      "              </a>\n",
      "            </li>\n",
      "            <li class=\"featured-voices__list-item\">\n",
      "              <span class=\"featured-voices__list-item-author display-block\">\n",
      "                    <a href=\"https://time.com/author/greer-donley/\">greer donley</a>\n",
      "                    ,\n",
      "                    <a href=\"https://time.com/author/kimi-chernoby/\">kimi chernoby</a>\n",
      "                    ,\n",
      "                    <a href=\"https://time.com/author/skye-perryman/\">skye perryman</a>\n",
      "                    \n",
      "                \n",
      "              </span>\n",
      "              <a href=\"/6208656/abortion-emtala-texas-idaho-emergency-situations/\">\n",
      "                <h3 class=\"featured-voices__list-item-headline display-block\">Two Courts Ruled on Abortion. One Got It Right</h3>\n",
      "              </a>\n",
      "            </li>\n",
      "            <li class=\"featured-voices__list-item\">\n",
      "              <span class=\"featured-voices__list-item-author display-block\">\n",
      "                    <a href=\"https://time.com/author/kathryn-judge/\">kathryn judge</a>\n",
      "                    \n",
      "                \n",
      "              </span>\n",
      "              <a href=\"/6207701/us-economy-middlemen-prices/\">\n",
      "                <h3 class=\"featured-voices__list-item-headline display-block\">How the Middleman Economy Makes Everything More Expensive </h3>\n",
      "              </a>\n",
      "            </li>\n",
      "            <li class=\"featured-voices__list-item\">\n",
      "              <span class=\"featured-voices__list-item-author display-block\">\n",
      "                    <a href=\"https://time.com/author/suriya-jayanti/\">suriya jayanti</a>\n",
      "                    \n",
      "                \n",
      "              </span>\n",
      "              <a href=\"/6209272/europes-energy-crisis-getting-worse/\">\n",
      "                <h3 class=\"featured-voices__list-item-headline display-block\">Europe's Energy Crisis Is Going to Get Worse. The World Will Bear the Cost</h3>\n",
      "              </a>\n",
      "            </li>\n",
      "        \n"
     ]
    }
   ],
   "source": [
    "from urllib.request import urlopen\n",
    "\n",
    "url = \"http://time.com\"\n",
    "page = urlopen(url)\n",
    "html = page.read().decode(\"utf-8\")\n",
    "txt = '<ul class=\"featured-voices__list swipe-h\">'\n",
    "start_index = html.find(txt) + len(txt)\n",
    "end_index = start_index+html[start_index:].find(\"</ul>\")\n",
    "my_snippet = html[start_index:end_index]\n",
    "print(my_snippet)\n",
    "my_snippet = my_snippet.split('\\n')"
   ]
  },
  {
   "cell_type": "code",
   "execution_count": 33,
   "metadata": {},
   "outputs": [
    {
     "name": "stdout",
     "output_type": "stream",
     "text": [
      "[\n",
      "{\n",
      "    \"title\": \"Our Ancestors Thought We'd Build an Economic Paradise. Instead We Got 2022\",\n",
      "    \"link\": \"https://time.com/6211380/economic-prosperity-failed/\">\"\n",
      "},\n",
      "{\n",
      "    \"title\": \"The CDC's Booster Recommendations May Not Provide Optimal Protection\",\n",
      "    \"link\": \"https://time.com/6211075/covid-19-vaccine-omicron-boosters/\">\"\n",
      "},\n",
      "{\n",
      "    \"title\": \"Critical Race Theory’s Merchants of Doubt\",\n",
      "    \"link\": \"https://time.com/6202664/critical-race-theorys-merchants-of-doubt/\">\"\n",
      "},\n",
      "{\n",
      "    \"title\": \"Two Courts Ruled on Abortion. One Got It Right\",\n",
      "    \"link\": \"https://time.com/6208656/abortion-emtala-texas-idaho-emergency-situations/\">\"\n",
      "},\n",
      "{\n",
      "    \"title\": \"How the Middleman Economy Makes Everything More Expensive\",\n",
      "    \"link\": \"https://time.com/6207701/us-economy-middlemen-prices/\">\"\n",
      "},\n",
      "{\n",
      "    \"title\": \"Europe's Energy Crisis Is Going to Get Worse. The World Will Bear the Cost\",\n",
      "    \"link\": \"https://time.com/6209272/europes-energy-crisis-getting-worse/\">\"\n",
      "}\n",
      "]\n"
     ]
    }
   ],
   "source": [
    "json_string = \"\"\n",
    "tag = '<h3 class=\"featured-voices__list-item-headline display-block\">'\n",
    "\n",
    "for n,i in enumerate(my_snippet):\n",
    "    # print(i.strip())\n",
    "    if tag in i:\n",
    "        json_string+=f'''{{\n",
    "    \"title\": \"{i.replace(tag,\"\").replace(\"</h3>\",\"\").strip()}\",\n",
    "    \"link\": \"{\"https://time.com\"+my_snippet[n-1].replace('<a href=\"',\"\").replace('\">\"',\"\").strip()}\"\n",
    "}},\\n'''\n",
    "json_string = \"[\\n\"+json_string[:-2]+\"\\n]\"\n",
    "json_string = json_string.replace(\"\\n\",\"<br>\")\n",
    "\n",
    "print(json_string)\n"
   ]
  },
  {
   "cell_type": "code",
   "execution_count": null,
   "metadata": {},
   "outputs": [],
   "source": []
  }
 ],
 "metadata": {
  "kernelspec": {
   "display_name": "Python 3.9.7 ('wb')",
   "language": "python",
   "name": "python3"
  },
  "language_info": {
   "codemirror_mode": {
    "name": "ipython",
    "version": 3
   },
   "file_extension": ".py",
   "mimetype": "text/x-python",
   "name": "python",
   "nbconvert_exporter": "python",
   "pygments_lexer": "ipython3",
   "version": "3.9.7"
  },
  "orig_nbformat": 4,
  "vscode": {
   "interpreter": {
    "hash": "fd0737d0ed3834169369995cf6511d2e41542fa3755bd59ab1f3f72b9c5fb6f9"
   }
  }
 },
 "nbformat": 4,
 "nbformat_minor": 2
}
